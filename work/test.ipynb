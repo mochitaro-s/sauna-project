{
 "cells": [
  {
   "cell_type": "code",
   "execution_count": 16,
   "metadata": {},
   "outputs": [],
   "source": [
    "import pandas as pd\n",
    "import requests\n",
    "from bs4 import BeautifulSoup\n",
    "\n",
    "from selenium import webdriver\n",
    "from selenium.webdriver.chrome.service import Service\n",
    "from webdriver_manager.chrome import ChromeDriverManager\n",
    "from selenium.webdriver.common.by import By\n",
    "import time"
   ]
  },
  {
   "cell_type": "code",
   "execution_count": 6,
   "metadata": {},
   "outputs": [],
   "source": [
    "# URL\n",
    "URL = \"https://www.rakumachi.jp/\""
   ]
  },
  {
   "cell_type": "code",
   "execution_count": 2,
   "metadata": {},
   "outputs": [],
   "source": [
    "#  不動産の情報を取得してみる"
   ]
  },
  {
   "cell_type": "code",
   "execution_count": 14,
   "metadata": {},
   "outputs": [],
   "source": [
    "def scrape_dynamic_site(url):\n",
    "    # Seleniumドライバーのセットアップ\n",
    "    service = Service(ChromeDriverManager().install())\n",
    "    driver = webdriver.Chrome(service=service)\n",
    "    \n",
    "    # 指定されたURLにアクセス\n",
    "    driver.get(url)\n",
    "    \n",
    "    # ページが完全にロードされるまで待機（適宜調整）\n",
    "    time.sleep(5)  # 実際にはより適切な待機方法を使用することが望ましい\n",
    "    \n",
    "    # 必要なデータを取得（例：ページのタイトル）\n",
    "    title = driver.find_element(By.TAG_NAME, \"title\").get_attribute('innerText')\n",
    "    \n",
    "    # ブラウザを閉じる\n",
    "    driver.quit()\n",
    "    \n",
    "    return title\n",
    "\n",
    "# 使用例（URLを適宜置き換えてください）\n",
    "# print(scrape_dynamic_site('https://example.com'))\n"
   ]
  },
  {
   "cell_type": "code",
   "execution_count": 30,
   "metadata": {},
   "outputs": [],
   "source": [
    "def extract_strong_class_data(driver, class_name):\n",
    "    # 指定されたクラスを持つすべての <strong> タグを見つける\n",
    "    elements = driver.find_elements(By.CSS_SELECTOR, f'strong.{class_name}')\n",
    "    \n",
    "    # 各要素のテキストをリストとして抽出\n",
    "    text_data = [element.text for element in elements]\n",
    "    \n",
    "    return text_data"
   ]
  },
  {
   "cell_type": "code",
   "execution_count": 26,
   "metadata": {},
   "outputs": [],
   "source": [
    "url = \"https://www.rakumachi.jp/syuuekibukken/area/prefecture/dimAll/?realtor_id=&area=&line=&st=&limit=20&keyword=&newly=&price_from=&price_to=&gross_from=&gross_to=&year_from=&year_to=&b_area_from=&b_area_to=&houses_ge=&houses_le=&min=&l_area_from=&l_area_to=\"\n",
    "\n",
    "# Seleniumドライバーのセットアップ\n",
    "service = Service(ChromeDriverManager().install())\n",
    "driver = webdriver.Chrome(service=service)\n",
    "\n",
    "# 指定されたURLにアクセス\n",
    "driver.get(url)\n",
    "\n",
    "# ページが完全にロードされるまで待機（適宜調整）\n",
    "time.sleep(5)  # 実際にはより適切な待機方法を使用することが望ましい\n",
    "\n",
    "# 必要なデータを取得（例：ページのタイトル）\n",
    "title = driver.find_element(By.TAG_NAME, \"title\").get_attribute('innerText')\n",
    "sales_price = driver.find_element(By.CLASS_NAME, 'sale-price').text if driver.find_elements(By.CLASS_NAME, 'sale-price') else 'N/A'"
   ]
  },
  {
   "cell_type": "code",
   "execution_count": 18,
   "metadata": {},
   "outputs": [
    {
     "data": {
      "text/plain": [
       "'N/A'"
      ]
     },
     "execution_count": 18,
     "metadata": {},
     "output_type": "execute_result"
    }
   ],
   "source": [
    "sales_price"
   ]
  },
  {
   "cell_type": "code",
   "execution_count": 29,
   "metadata": {},
   "outputs": [
    {
     "data": {
      "text/plain": [
       "'1億3950万円'"
      ]
     },
     "execution_count": 29,
     "metadata": {},
     "output_type": "execute_result"
    }
   ],
   "source": [
    "class_name = \"price\"\n",
    "driver.find_elements(By.CSS_SELECTOR, f'strong.{class_name}')[0].text"
   ]
  },
  {
   "cell_type": "code",
   "execution_count": null,
   "metadata": {},
   "outputs": [],
   "source": []
  }
 ],
 "metadata": {
  "kernelspec": {
   "display_name": "project01-vVfPqugF-py3.12",
   "language": "python",
   "name": "python3"
  },
  "language_info": {
   "codemirror_mode": {
    "name": "ipython",
    "version": 3
   },
   "file_extension": ".py",
   "mimetype": "text/x-python",
   "name": "python",
   "nbconvert_exporter": "python",
   "pygments_lexer": "ipython3",
   "version": "3.12.2"
  }
 },
 "nbformat": 4,
 "nbformat_minor": 2
}
